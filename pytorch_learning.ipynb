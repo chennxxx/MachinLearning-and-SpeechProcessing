{
 "cells": [
  {
   "cell_type": "markdown",
   "metadata": {},
   "source": [
    "# Pytorch\n",
    "## 加载数据\n",
    "dataset -> dataloader"
   ]
  },
  {
   "cell_type": "code",
   "execution_count": null,
   "metadata": {},
   "outputs": [],
   "source": [
    "from torch.utils.data import Dataset\n",
    "from PIL import Image\n",
    "import os\n",
    "\n",
    "class my_data(Dataset):\n",
    "\n",
    "    def __init__(self, root_dir, label_dir) -> None:\n",
    "        super().__init__()\n",
    "        self.root_dir = root_dir\n",
    "        self.label_dir = label_dir\n",
    "        self.path = os.path.join(self.root_dir, self.label_dir)\n",
    "        self.img_path = os.listdir(self.path)\n",
    "    \n",
    "    def __getitem__(self, index):\n",
    "        img_name = self.img_path[index]\n",
    "        img_item_path = os.path.join(self.root_dir, self.label_dir, img_name)\n",
    "        img = Image.open(img_item_path)\n",
    "        label = self.label_dir\n",
    "        return img, label\n",
    "    \n",
    "    def __len__(self):\n",
    "        return len(self.img_path)\n",
    "\n",
    "root_dir = '/Users/chen/Desktop/练手数据集/train'\n",
    "ants_image_dir = 'ants_image'\n",
    "ants_dataset = my_data(root_dir, ants_image_dir)\n",
    "\n",
    "img, label = ants_dataset[0]\n",
    "img\n",
    "\n",
    "# len(ants_dataset)"
   ]
  },
  {
   "cell_type": "markdown",
   "metadata": {},
   "source": [
    "## Tensorboard and Transform\n",
    "\n",
    "### 使用tensorboard\n",
    "### 使用transform转换成tensor数据格式"
   ]
  },
  {
   "cell_type": "code",
   "execution_count": 1,
   "metadata": {},
   "outputs": [],
   "source": [
    "from torch.utils.tensorboard import SummaryWriter\n",
    "import numpy as np\n",
    "from PIL import Image\n",
    "\n",
    "\n",
    "writer = SummaryWriter('/Users/chen/Desktop/练手数据集/train/logs')\n",
    "image_path = ('/Users/chen/Desktop/练手数据集/train/ants_image/0013035.jpg')\n",
    "image_PIL = Image.open(image_path)\n",
    "img_array = np.array(image_PIL)\n",
    "\n",
    "writer.add_image('test', img_array, 2,dataformats=\"HWC\")\n",
    "# for i in range(100):\n",
    "\n",
    "#     writer.add_scalar('y=x',3*i,i)  #tag, scalar_value(y), global_step(x)\n",
    "\n",
    "\n",
    "writer.close()"
   ]
  },
  {
   "cell_type": "code",
   "execution_count": null,
   "metadata": {},
   "outputs": [],
   "source": [
    "# 使用tensorboard\n",
    "\n",
    "from PIL import Image\n",
    "from torch.utils.tensorboard import SummaryWriter\n",
    "from torchvision import transforms\n",
    "\n",
    "img_path = '/Users/chen/Desktop/练手数据集/train/ants_image/5650366_e22b7e1065.jpg'\n",
    "img = Image.open(img_path)\n",
    "\n",
    "writer = SummaryWriter('/Users/chen/Desktop/练手数据集/train/logs')\n",
    "\n",
    "# toTensor\n",
    "tensor_trans = transforms.ToTensor()\n",
    "ten_img = tensor_trans(img)\n",
    "\n",
    "writer.add_image('tor',ten_img)\n",
    "\n",
    "writer.close()"
   ]
  },
  {
   "cell_type": "code",
   "execution_count": null,
   "metadata": {},
   "outputs": [],
   "source": [
    "from torchvision import transforms\n",
    "from PIL import Image\n",
    "\n",
    "img = Image.open('/Users/chen/Desktop/练手数据集/train/ants_image/6240329_72c01e663e.jpg')\n",
    "\n",
    "# normalize\n",
    "print(ten_img[0][0][0])\n",
    "tran = transforms.Normalize([0.5,1,0.1],[0.2,0.3,1])\n",
    "img_nor = tran(ten_img)\n",
    "print(img_nor[0][0][0])\n",
    "\n",
    "writer.add_image('Nor',img_nor)\n",
    "\n",
    "writer.close()\n",
    "\n"
   ]
  },
  {
   "cell_type": "code",
   "execution_count": null,
   "metadata": {},
   "outputs": [],
   "source": [
    "# resize - PIL\n",
    "print(img.size)\n",
    "trans_size = transforms.Resize((512,512))\n",
    "img_resized = trans_size(img)\n",
    "print(img_resized.size)\n",
    "\n",
    "# PIL - resize - toTensor\n",
    "img_resized = trans_size(img)\n",
    "print(img_resized.size)\n",
    "type(img_resized)\n",
    "\n",
    "img_resized = tensor_trans(img_resized)\n",
    "type(img_resized)\n",
    "\n",
    "# compose 连续调用方法集合\n",
    "trans_resized2 = transforms.Resize(800)\n",
    "trans_compose = transforms.Compose([trans_resized2,tensor_trans])\n",
    "img_resized2 = trans_compose(img)\n",
    "\n",
    "writer.add_image('resized2',img_resized2)\n",
    "\n",
    "writer.close()\n"
   ]
  },
  {
   "cell_type": "markdown",
   "metadata": {},
   "source": [
    "### 使用torchvision中的数据集"
   ]
  },
  {
   "cell_type": "code",
   "execution_count": 2,
   "metadata": {},
   "outputs": [
    {
     "name": "stdout",
     "output_type": "stream",
     "text": [
      "Downloading https://www.cs.toronto.edu/~kriz/cifar-10-python.tar.gz to ./dataset/cifar-10-python.tar.gz\n"
     ]
    },
    {
     "data": {
      "application/vnd.jupyter.widget-view+json": {
       "model_id": "fd2a24043a5c4e0eba0ca4bb6e336bef",
       "version_major": 2,
       "version_minor": 0
      },
      "text/plain": [
       "  0%|          | 0/170498071 [00:00<?, ?it/s]"
      ]
     },
     "metadata": {},
     "output_type": "display_data"
    },
    {
     "name": "stdout",
     "output_type": "stream",
     "text": [
      "Extracting ./dataset/cifar-10-python.tar.gz to ./dataset\n",
      "Files already downloaded and verified\n"
     ]
    },
    {
     "data": {
      "text/plain": [
       "(<PIL.Image.Image image mode=RGB size=32x32 at 0x7FF721239B50>, 6)"
      ]
     },
     "execution_count": 2,
     "metadata": {},
     "output_type": "execute_result"
    }
   ],
   "source": [
    "import torchvision\n",
    "\n",
    "train_set = torchvision.datasets.CIFAR10(root='./dataset',train=True,download=True)\n",
    "test_set = torchvision.datasets.CIFAR10(root='./dataset',train=False,download=True)\n",
    "\n",
    "train_set[0]\n"
   ]
  },
  {
   "cell_type": "code",
   "execution_count": null,
   "metadata": {},
   "outputs": [],
   "source": [
    "from turtle import forward\n",
    "from torch import nn\n",
    "import torch\n",
    "\n",
    "class Tudui(nn.Module):\n",
    "    def __init__(self) -> None:\n",
    "        super().__init__()\n",
    "\n",
    "    def forward(self,input):\n",
    "        output = input + 1\n",
    "        return output\n",
    "\n",
    "tudui = Tudui()\n",
    "x = torch.tensor(1.0)\n",
    "opt = tudui(x)\n",
    "opt"
   ]
  },
  {
   "cell_type": "markdown",
   "metadata": {},
   "source": [
    "## Convolutional layers"
   ]
  },
  {
   "cell_type": "code",
   "execution_count": 10,
   "metadata": {},
   "outputs": [
    {
     "name": "stdout",
     "output_type": "stream",
     "text": [
      "torch.Size([1, 1, 5, 5])\n",
      "torch.Size([1, 1, 3, 3])\n",
      "tensor([[[[10, 12, 12],\n",
      "          [18, 16, 16],\n",
      "          [13,  9,  3]]]])\n",
      "tensor([[[[10, 12],\n",
      "          [13,  3]]]])\n",
      "tensor([[[[ 1,  3,  4, 10,  8],\n",
      "          [ 5, 10, 12, 12,  6],\n",
      "          [ 7, 18, 16, 16,  8],\n",
      "          [11, 13,  9,  3,  4],\n",
      "          [14, 13,  9,  7,  4]]]])\n"
     ]
    }
   ],
   "source": [
    "import torch\n",
    "import torch.nn.functional as F\n",
    "\n",
    "input = torch.tensor(\n",
    "    [\n",
    "        [1,2,0,3,1],\n",
    "        [0,1,2,3,1],\n",
    "        [1,2,1,0,0],\n",
    "        [5,2,3,1,1],\n",
    "        [2,1,0,1,1]\n",
    "    ]\n",
    ")\n",
    "\n",
    "kernel = torch.tensor(\n",
    "    [\n",
    "        [1,2,1],\n",
    "        [0,1,0],\n",
    "        [2,1,0]\n",
    "    ]\n",
    ")\n",
    "\n",
    "input = torch.reshape(input,(1,1,5,5))\n",
    "kernel = torch.reshape(kernel,(1,1,3,3))\n",
    "\n",
    "print(input.shape)\n",
    "print(kernel.shape)\n",
    "\n",
    "output = F.conv2d(input,kernel,stride = 1)\n",
    "print(output)\n",
    "\n",
    "output2 = F.conv2d(input,kernel,stride = 2)\n",
    "print(output2)\n",
    "\n",
    "output3 = F.conv2d(input,kernel,stride = 1,padding=1)\n",
    "print(output3)\n",
    "\n"
   ]
  },
  {
   "cell_type": "code",
   "execution_count": 8,
   "metadata": {},
   "outputs": [
    {
     "name": "stdout",
     "output_type": "stream",
     "text": [
      "Files already downloaded and verified\n"
     ]
    }
   ],
   "source": [
    "import torchvision\n",
    "import torch\n",
    "from torch import nn\n",
    "from torch.utils.data import DataLoader\n",
    "from torch.nn import Conv2d\n",
    "from torch.utils.tensorboard import SummaryWriter\n",
    "\n",
    "\n",
    "dataset = torchvision.datasets.CIFAR10('./dataset',train=False,transform=torchvision.transforms.ToTensor(),download=True)\n",
    "dataloader = DataLoader(dataset,batch_size=64)\n",
    "\n",
    "class Tudui(nn.Module):\n",
    "    def __init__(self) -> None:\n",
    "        super(Tudui,self).__init__()\n",
    "        self.conv1 = Conv2d(in_channels=3,out_channels=6,kernel_size=3,stride=1,padding=0)\n",
    "    \n",
    "    def forward(self,x):\n",
    "        x = self.conv1(x)\n",
    "        return x\n",
    "\n",
    "tudui = Tudui()\n",
    "step = 0\n",
    "writer = SummaryWriter('./logs')\n",
    "for data in dataloader:\n",
    "    imgs, targets = data\n",
    "    output = tudui(imgs)\n",
    "    writer.add_images('input',imgs,step)\n",
    "    output = torch.reshape(output,(-1,3,30,30))\n",
    "    writer.add_images('output',output,step)\n",
    "\n",
    "    step += 1\n"
   ]
  },
  {
   "cell_type": "markdown",
   "metadata": {},
   "source": [
    "## Pooling layer\n",
    "maxpool"
   ]
  },
  {
   "cell_type": "code",
   "execution_count": 13,
   "metadata": {},
   "outputs": [
    {
     "name": "stdout",
     "output_type": "stream",
     "text": [
      "Files already downloaded and verified\n"
     ]
    }
   ],
   "source": [
    "import torch\n",
    "import torchvision\n",
    "from torch import nn\n",
    "from torch.nn import MaxPool2d\n",
    "from torch.utils.data import DataLoader\n",
    "from torch.utils.tensorboard import SummaryWriter\n",
    "\n",
    "dataset = torchvision.datasets.CIFAR10(\"./dataset\", train=False, download=True,\n",
    "                                       transform=torchvision.transforms.ToTensor())\n",
    "\n",
    "dataloader = DataLoader(dataset, batch_size=64)\n",
    "\n",
    "class Tudui(nn.Module):\n",
    "    def __init__(self):\n",
    "        super(Tudui, self).__init__()\n",
    "        self.maxpool1 = MaxPool2d(kernel_size=3, ceil_mode=False)\n",
    "\n",
    "    def forward(self, input):\n",
    "        output = self.maxpool1(input)\n",
    "        return output\n",
    "\n",
    "tudui = Tudui()\n",
    "\n",
    "writer = SummaryWriter(\"./logs_maxpool\")\n",
    "step = 0\n",
    "\n",
    "for data in dataloader:\n",
    "    imgs, targets = data\n",
    "    writer.add_images(\"input\", imgs, step)\n",
    "    output = tudui(imgs)\n",
    "    writer.add_images(\"output\", output, step)\n",
    "    step = step + 1\n",
    "\n",
    "writer.close()\n",
    "\n"
   ]
  },
  {
   "cell_type": "markdown",
   "metadata": {},
   "source": [
    "## No linear activation / Sigmoid"
   ]
  },
  {
   "cell_type": "code",
   "execution_count": null,
   "metadata": {},
   "outputs": [],
   "source": []
  }
 ],
 "metadata": {
  "kernelspec": {
   "display_name": "Python 3.9.12 ('base')",
   "language": "python",
   "name": "python3"
  },
  "language_info": {
   "codemirror_mode": {
    "name": "ipython",
    "version": 3
   },
   "file_extension": ".py",
   "mimetype": "text/x-python",
   "name": "python",
   "nbconvert_exporter": "python",
   "pygments_lexer": "ipython3",
   "version": "3.9.12"
  },
  "orig_nbformat": 4,
  "vscode": {
   "interpreter": {
    "hash": "973382092385801fa71f3a1952900d870b4a79b953bac0c6964790b6ad73d91b"
   }
  }
 },
 "nbformat": 4,
 "nbformat_minor": 2
}
