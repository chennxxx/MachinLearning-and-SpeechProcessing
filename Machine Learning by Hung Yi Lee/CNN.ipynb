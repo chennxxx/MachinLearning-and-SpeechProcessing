{
 "cells": [
  {
   "cell_type": "markdown",
   "metadata": {},
   "source": [
    "# Convolutional Neural Network\n",
    "Network architecure designed for image\n",
    "\n"
   ]
  },
  {
   "cell_type": "markdown",
   "metadata": {},
   "source": [
    "## Image Classification\n",
    "\n",
    "image -> 3D tensor -> value(represents intensity)\n",
    "\n",
    "- Fully Connected Network\n",
    "\n",
    "A neuron does not have to see the whole image.\n",
    "\n",
    "How to simplify?\n",
    "\n",
    "Typical setting/parameter sharing共用同一组参数(Filter)\n",
    "- kernel size\n",
    "- stride\n",
    "\n",
    "Benifits of Convolutional Layer\n",
    "\n",
    "## Pooling\n",
    "主要是把图片变小，缩小输出的channel\n"
   ]
  }
 ],
 "metadata": {
  "kernelspec": {
   "display_name": "Python 3.9.12 ('base')",
   "language": "python",
   "name": "python3"
  },
  "language_info": {
   "codemirror_mode": {
    "name": "ipython",
    "version": 3
   },
   "file_extension": ".py",
   "mimetype": "text/x-python",
   "name": "python",
   "nbconvert_exporter": "python",
   "pygments_lexer": "ipython3",
   "version": "3.9.12"
  },
  "orig_nbformat": 4,
  "vscode": {
   "interpreter": {
    "hash": "973382092385801fa71f3a1952900d870b4a79b953bac0c6964790b6ad73d91b"
   }
  }
 },
 "nbformat": 4,
 "nbformat_minor": 2
}
