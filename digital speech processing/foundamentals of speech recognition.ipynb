{
 "cells": [
  {
   "cell_type": "markdown",
   "metadata": {},
   "source": [
    "# Acoustic model\n",
    "\n",
    "## Hidden Markov Model\n",
    "![](2022-09-22-22-42-16.png)\n",
    "\n",
    "### Formulation\n",
    "\n",
    "HMM: (A,B,pai)\n",
    "\n",
    "A: state transition probability\n",
    "\n",
    "    describe the probability a^ij = [q^t=j|q^t-1=i]\n",
    "\n",
    "B: observation probability\n",
    "\n",
    "    GMM: gaussion mixture model\n",
    "\n",
    "pai: initial probability\n",
    "\n",
    "    where to begin in a state\n",
    "\n",
    "### Double layers of stochastic processes\n",
    "- hidden state with random transitions for time wraping\n",
    "- random output given state for random acoustic characteristics\n",
    "  \n",
    "### Three basic problems\n",
    "- evaluation problem\n",
    "- decoding problem\n",
    "- learning problem\n",
    "  \n",
    "# Features exxtration\n",
    "\n",
    "## time and frequency domains\n",
    "![](2022-09-23-20-35-35.png)\n",
    "\n",
    "## Pre emphasis\n",
    "Pre emphasis of spectrum at higher frequencies\n",
    "\n",
    "## End point detection\n",
    "![](2022-09-23-20-38-00.png)\n",
    "\n",
    "# Language modeling: N-gram\n",
    "\n",
    "## A search process based on acoustic model, language model and lexicon\n",
    "MAP: maximum a posteriori\n",
    "![](2022-09-23-20-51-50.png)\n",
    "\n",
    "\n"
   ]
  }
 ],
 "metadata": {
  "language_info": {
   "name": "python"
  },
  "orig_nbformat": 4
 },
 "nbformat": 4,
 "nbformat_minor": 2
}
